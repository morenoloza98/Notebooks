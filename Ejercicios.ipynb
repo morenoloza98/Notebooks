{
  "nbformat": 4,
  "nbformat_minor": 0,
  "metadata": {
    "colab": {
      "name": "Ejercicios.ipynb",
      "provenance": [],
      "collapsed_sections": [],
      "include_colab_link": true
    },
    "kernelspec": {
      "display_name": "Python 3",
      "language": "python",
      "name": "python3"
    },
    "language_info": {
      "codemirror_mode": {
        "name": "ipython",
        "version": 3
      },
      "file_extension": ".py",
      "mimetype": "text/x-python",
      "name": "python",
      "nbconvert_exporter": "python",
      "pygments_lexer": "ipython3",
      "version": "3.7.6"
    }
  },
  "cells": [
    {
      "cell_type": "markdown",
      "metadata": {
        "id": "view-in-github",
        "colab_type": "text"
      },
      "source": [
        "<a href=\"https://colab.research.google.com/github/morenoloza98/Notebooks/blob/master/Ejercicios.ipynb\" target=\"_parent\"><img src=\"https://colab.research.google.com/assets/colab-badge.svg\" alt=\"Open In Colab\"/></a>"
      ]
    },
    {
      "cell_type": "markdown",
      "metadata": {
        "id": "vffu_7Jtz1hf",
        "colab_type": "text"
      },
      "source": [
        "[![Open In Colab](https://colab.research.google.com/assets/colab-badge.svg)](https://colab.research.google.com/github/MauricioRR-Tec/Sistemas-Inteligentes/blob/master/Notebooks/practica_1_python.ipynb)"
      ]
    },
    {
      "cell_type": "markdown",
      "metadata": {
        "colab_type": "text",
        "id": "4zMzLuXxBDdY"
      },
      "source": [
        "# Ejercicios bases de Python"
      ]
    },
    {
      "cell_type": "markdown",
      "metadata": {
        "colab_type": "text",
        "id": "HAY8IBC4dM62"
      },
      "source": [
        "## Estructuras, asignación y funciones"
      ]
    },
    {
      "cell_type": "markdown",
      "metadata": {
        "colab_type": "text",
        "id": "5OKzkyU6_1kB"
      },
      "source": [
        "### 1. Creando una agenda \n",
        "\n",
        "Utiliza los conceptos básicos de python para crear una agenda telefónica. Deberás completar las funciones crear_agenda, agregar_contacto, eliminimar_contacto y buscar_contacto que se encuentran en las siguientes celdas.\n",
        "\n",
        "* ```crear_agenda()```, esta función devuelve una nueva agenda vacía, elige el tipo de dato que creas adecuado para este proposito.\n",
        "* ```agregar_contacto(agenda, nombre, numero)```, esta función debe permitir agregar un nuevo contacto a la agenda, además si un contacto ya existe con el nombre recibido entonces debes almacenar su nuevo numero sin eliminar el anterior.\n",
        "* ```buscar_contacto(agenda, nombre)```, esta función debe de regresar el o los números registados de un contacto, si el contacto no existe entonces imprimer el mensaje \"Contacto no encontrado en la agenda\".\n",
        "* ```eliminar_contacto(agenda, nombre)```, esta función permite eliminar a un contacto de la agenda, si el contacto no existe entonces imprimer el mensaje \"Contacto no encontrado en la agenda\"."
      ]
    },
    {
      "cell_type": "code",
      "metadata": {
        "id": "SRWOHgXTz1ho",
        "colab_type": "code",
        "colab": {}
      },
      "source": [
        "def crear_agenda():\n",
        "  agenda = {}\n",
        "  return agenda"
      ],
      "execution_count": 112,
      "outputs": []
    },
    {
      "cell_type": "code",
      "metadata": {
        "colab_type": "code",
        "id": "QjsW0Y_M_x4j",
        "colab": {}
      },
      "source": [
        "def agregar_contacto(agenda, nombre, numero):\n",
        "    \"\"\"\n",
        "    Tip:\n",
        "    Primero debes comprobar si existe el contacto\n",
        "    si no existe entonces crea uno nuevo y guarda\n",
        "    su nombre y numero\n",
        "    \"\"\"\n",
        "\n",
        "    if nombre in agenda:\n",
        "      if type(agenda[nombre]) is list:\n",
        "        agenda[nombre].append(numero)\n",
        "      else:\n",
        "        agenda[nombre] = [agenda[nombre], numero]\n",
        "    else:\n",
        "      agenda[nombre] = numero\n",
        "    return agenda"
      ],
      "execution_count": 113,
      "outputs": []
    },
    {
      "cell_type": "code",
      "metadata": {
        "id": "rO7cPZd6z1hy",
        "colab_type": "code",
        "colab": {}
      },
      "source": [
        "agenda = crear_agenda()\n",
        "agenda = agregar_contacto(agenda, \"Javier\", \"1234567890\")"
      ],
      "execution_count": 114,
      "outputs": []
    },
    {
      "cell_type": "code",
      "metadata": {
        "id": "VYQhE2gEz1h5",
        "colab_type": "code",
        "colab": {}
      },
      "source": [
        "def buscar_contacto(agenda, nombre):\n",
        "    \"\"\"\n",
        "    Busca el contacto en la agenda, imprime su nombre y numero\n",
        "    Si tiene mas de un numero, imprime todos\n",
        "    Si el contacto no existe, imprime \"Contacto no encontrado en la agenda\"\n",
        "    \"\"\"\n",
        "\n",
        "    if nombre in agenda:\n",
        "      print(nombre, agenda[nombre])\n",
        "    else:\n",
        "      print(\"Contacto no encontrado\")\n",
        "    return"
      ],
      "execution_count": 117,
      "outputs": []
    },
    {
      "cell_type": "code",
      "metadata": {
        "id": "WPvuq4Edz1h8",
        "colab_type": "code",
        "colab": {
          "base_uri": "https://localhost:8080/",
          "height": 51
        },
        "outputId": "4ca26838-1459-41ae-e5d0-2d8a57b10629"
      },
      "source": [
        "buscar_contacto(agenda, \"Javier\")\n",
        "agenda = agregar_contacto(agenda, \"Javier\", \"0987654321\")\n",
        "buscar_contacto(agenda, \"Javier\")"
      ],
      "execution_count": 118,
      "outputs": [
        {
          "output_type": "stream",
          "text": [
            "Javier ['1234567890', '0987654321']\n",
            "Javier ['1234567890', '0987654321', '0987654321']\n"
          ],
          "name": "stdout"
        }
      ]
    },
    {
      "cell_type": "code",
      "metadata": {
        "id": "dUwJO8qOz1iB",
        "colab_type": "code",
        "colab": {}
      },
      "source": [
        "def eliminar_contacto(agenda, nombre):\n",
        "    \"\"\"\n",
        "    Elimina el contacto de la agenda\n",
        "    si el contacto no existe imprime \"Contacto no encontrado en la agenda\"\n",
        "    \"\"\"\n",
        "\n",
        "    del agenda[nombre]\n",
        "    return agenda"
      ],
      "execution_count": 119,
      "outputs": []
    },
    {
      "cell_type": "code",
      "metadata": {
        "colab_type": "code",
        "id": "RkNtzllbBirX",
        "colab": {
          "base_uri": "https://localhost:8080/",
          "height": 34
        },
        "outputId": "fb9ccf55-ddbd-496c-c5d1-c82fac488ce9"
      },
      "source": [
        "agenda = eliminar_contacto(agenda,\"Javier\")\n",
        "print(agenda)"
      ],
      "execution_count": 121,
      "outputs": [
        {
          "output_type": "stream",
          "text": [
            "{}\n"
          ],
          "name": "stdout"
        }
      ]
    },
    {
      "cell_type": "markdown",
      "metadata": {
        "colab_type": "text",
        "id": "3nzzkH6EA88D"
      },
      "source": [
        "# Ejercicios estadística"
      ]
    },
    {
      "cell_type": "markdown",
      "metadata": {
        "colab_type": "text",
        "id": "e5g5CAaOc01h"
      },
      "source": [
        "### Función suma\n",
        "\n",
        "$$\n",
        "    suma(a) = \\sum_{i=1}^{n}a_i\n",
        "$$"
      ]
    },
    {
      "cell_type": "code",
      "metadata": {
        "colab_type": "code",
        "id": "RxWbpZ42c07g",
        "colab": {}
      },
      "source": [
        "def suma(x):\n",
        "    suma = 0\n",
        "\n",
        "    for num in x:\n",
        "      suma += num\n",
        "    return suma"
      ],
      "execution_count": 133,
      "outputs": []
    },
    {
      "cell_type": "code",
      "metadata": {
        "id": "IGnEODaCz1id",
        "colab_type": "code",
        "colab": {}
      },
      "source": [
        "assert suma([1, 2, 3, 4, 5]) == 15"
      ],
      "execution_count": 134,
      "outputs": []
    },
    {
      "cell_type": "markdown",
      "metadata": {
        "colab_type": "text",
        "id": "Hc30xEPMc1QC"
      },
      "source": [
        "### Función promedio.\n",
        "\n",
        "$$\n",
        "\t\\bar{x} = \\dfrac{\\sum_{i=1}^{n}x_i}{n}\n",
        "$$"
      ]
    },
    {
      "cell_type": "code",
      "metadata": {
        "colab_type": "code",
        "id": "2KyU6PyCc1VM",
        "colab": {}
      },
      "source": [
        "def promedio(x):\n",
        "    promedio = 0\n",
        "\n",
        "    for num in x:\n",
        "      promedio += num\n",
        "    promedio /= len(x)\n",
        "    return promedio"
      ],
      "execution_count": 145,
      "outputs": []
    },
    {
      "cell_type": "code",
      "metadata": {
        "id": "PQHS2JL4z1jD",
        "colab_type": "code",
        "colab": {}
      },
      "source": [
        "assert promedio([1, 2, 3, 4, 5]) == 3, \"Error en promedio\""
      ],
      "execution_count": 146,
      "outputs": []
    },
    {
      "cell_type": "markdown",
      "metadata": {
        "colab_type": "text",
        "id": "ImMoE5w4c1of"
      },
      "source": [
        "### Función varianza.\n",
        "$$\n",
        "\\sigma^2 = \\frac{1}{n} \\sum_{i=1}^{n}(x_i - \\bar{x})^2\n",
        "$$"
      ]
    },
    {
      "cell_type": "code",
      "metadata": {
        "colab_type": "code",
        "id": "h0w2PHhLc1tG",
        "colab": {}
      },
      "source": [
        "def var(x):\n",
        "    var = 0\n",
        "\n",
        "    suma = 0\n",
        "    promedio = 0\n",
        "    for num in x:\n",
        "      suma += num\n",
        "    promedio = suma // len(x)\n",
        "    for num in x:\n",
        "      suma = (num-promedio)**2\n",
        "      var += suma\n",
        "    var //= len(x)\n",
        "    return var"
      ],
      "execution_count": 159,
      "outputs": []
    },
    {
      "cell_type": "code",
      "metadata": {
        "id": "voEJfTuzz1jY",
        "colab_type": "code",
        "colab": {}
      },
      "source": [
        "assert var([1, 2, 3, 4, 5]) == 2, \"Error en var\""
      ],
      "execution_count": 160,
      "outputs": []
    },
    {
      "cell_type": "markdown",
      "metadata": {
        "colab_type": "text",
        "id": "fxxJeFhbA9Cq"
      },
      "source": [
        "# Ejercicios álgebra lineal"
      ]
    },
    {
      "cell_type": "markdown",
      "metadata": {
        "colab_type": "text",
        "id": "6dXp-owNeqP9"
      },
      "source": [
        "## Vectores con listas"
      ]
    },
    {
      "cell_type": "markdown",
      "metadata": {
        "colab_type": "text",
        "id": "9Du0_NsNc81H"
      },
      "source": [
        "### Ones"
      ]
    },
    {
      "cell_type": "markdown",
      "metadata": {
        "colab_type": "text",
        "id": "DKp9wDLPEZdz"
      },
      "source": [
        "Completa la función ones1D que recibe como parámetros un entero $n$ y retorna una lista de tamaño $n$ con todos sus elementos con el valor $1$.\n",
        "\n",
        "Ejemplo:\n",
        "\n",
        "```\n",
        ">>> ones(5)\n",
        "[1, 1, 1, 1, 1]\n",
        "```\n",
        "\n"
      ]
    },
    {
      "cell_type": "code",
      "metadata": {
        "colab_type": "code",
        "id": "l4j5ka46EulY",
        "colab": {}
      },
      "source": [
        "def ones_1d(n):\n",
        "    ones_list = n*[1]\n",
        "    return ones_list  "
      ],
      "execution_count": 168,
      "outputs": []
    },
    {
      "cell_type": "markdown",
      "metadata": {
        "colab_type": "text",
        "id": "TBYV7LYqdSJo"
      },
      "source": [
        "Ejecuta la siguiente celda para comprobar la función ones1D:"
      ]
    },
    {
      "cell_type": "code",
      "metadata": {
        "colab_type": "code",
        "id": "QUlEotVIdRno",
        "colab": {
          "base_uri": "https://localhost:8080/",
          "height": 34
        },
        "outputId": "b6b635ac-37e1-463b-dd4d-03f4646f9b6a"
      },
      "source": [
        "assert len(ones_1d(10)) == 10 and  ones_1d(3).count(1) == 3 and sum(ones_1d(5)) == 5  , \"error en la funcion ones_1d\"\n",
        "print(\"La funcion es correcta\")"
      ],
      "execution_count": 169,
      "outputs": [
        {
          "output_type": "stream",
          "text": [
            "La funcion es correcta\n"
          ],
          "name": "stdout"
        }
      ]
    },
    {
      "cell_type": "markdown",
      "metadata": {
        "id": "QjjopGGHz1j8",
        "colab_type": "text"
      },
      "source": [
        "### Ones 2D"
      ]
    },
    {
      "cell_type": "markdown",
      "metadata": {
        "colab_type": "text",
        "id": "lxOMWQXXEZp3"
      },
      "source": [
        "Completa la función ones_2d que recibe como parámetros un entero $n$ y un entero $m$ y retorna una lista con $n$ sub-listas cada una de tamaño $m$ con todos sus elementos con el valor 1. En otras palabras, una matriz $n \\times m$ con sus elementos iniciados con valor $1$.\n",
        "\n",
        "Ejemplo:\n",
        "\n",
        "\n",
        "\n",
        "```\n",
        ">>> ones_2d(2, 3)\n",
        "[[1, 1, 1], [1, 1, 1]]\n",
        "```\n",
        "\n"
      ]
    },
    {
      "cell_type": "code",
      "metadata": {
        "colab_type": "code",
        "id": "-xfFmttxFRCw",
        "colab": {}
      },
      "source": [
        "def ones_2d(m, n):\n",
        "    ones_ll = m*[n*[1]]\n",
        "    return ones_ll"
      ],
      "execution_count": 179,
      "outputs": []
    },
    {
      "cell_type": "markdown",
      "metadata": {
        "colab_type": "text",
        "id": "yugjWXI9eI4P"
      },
      "source": [
        "Ejecuta la siguiente celda para comprobar la función ones2D:"
      ]
    },
    {
      "cell_type": "code",
      "metadata": {
        "colab_type": "code",
        "id": "i7sZXWsveJBC",
        "colab": {
          "base_uri": "https://localhost:8080/",
          "height": 34
        },
        "outputId": "ff3e0d23-8406-41f5-8da2-020f2581d32f"
      },
      "source": [
        "assert len(ones_2d(2, 3)) == 2 and len(ones_2d(2, 3)[0]) == 3 and sum([x_i for sl in ones_2d(3, 2) for x_i in sl]) == 6 , \"error en la funcion ones_2d\"\n",
        "print(\"La funcion es correcta\")"
      ],
      "execution_count": 180,
      "outputs": [
        {
          "output_type": "stream",
          "text": [
            "La funcion es correcta\n"
          ],
          "name": "stdout"
        }
      ]
    },
    {
      "cell_type": "markdown",
      "metadata": {
        "id": "IXzOTyGHz1kr",
        "colab_type": "text"
      },
      "source": [
        "### Producto punto (inner)"
      ]
    },
    {
      "cell_type": "markdown",
      "metadata": {
        "id": "fscy0wyvz1kt",
        "colab_type": "text"
      },
      "source": [
        "Completa la función ones_2d que recibe como parametros dos listas a, b de la misma longitúd y retorna el producto punto de ambos.\n",
        "\n",
        "El producto punto está definido como:\n",
        "\n",
        "$$a = [a_1 a_2 ... a_n] \\: y \\: b = [b_1 b_2 ... b_n]$$\n",
        "\n",
        "$$\n",
        "a \\cdot b = a_1*b_1 + a_2*b_2 + \\dots + a_n*b_n\n",
        "$$"
      ]
    },
    {
      "cell_type": "code",
      "metadata": {
        "colab_type": "code",
        "id": "OvNCcnXLBBc0",
        "colab": {}
      },
      "source": [
        "def inner(a, b):\n",
        "  total = 0\n",
        "  for num1 in range(len(a)):\n",
        "    total += a[num1]*b[num1]\n",
        "  return total"
      ],
      "execution_count": 203,
      "outputs": []
    },
    {
      "cell_type": "code",
      "metadata": {
        "id": "AFfNoSUJz1nS",
        "colab_type": "code",
        "colab": {
          "base_uri": "https://localhost:8080/",
          "height": 34
        },
        "outputId": "6a7005af-322f-4bab-f1c0-a4fc982f1644"
      },
      "source": [
        "assert inner([1, 2, 3], [1, 2 ,3]) == 14, \"Error en inner\"\n",
        "print(\"Correcto\")"
      ],
      "execution_count": 204,
      "outputs": [
        {
          "output_type": "stream",
          "text": [
            "Correcto\n"
          ],
          "name": "stdout"
        }
      ]
    },
    {
      "cell_type": "markdown",
      "metadata": {
        "colab_type": "text",
        "id": "6B7dwCC7eqnL"
      },
      "source": [
        "## Matrices con listas de listas"
      ]
    },
    {
      "cell_type": "markdown",
      "metadata": {
        "colab_type": "text",
        "id": "l36RNkUqexzU"
      },
      "source": [
        "### Matriz identidad\n",
        "$$\n",
        "\tI_{ij} = \\begin{cases}\n",
        "\t\t1 & i=j\\\\\n",
        "\t\t0 & i \\neq j\\\\\n",
        "\t\\end{cases}\n",
        "$$"
      ]
    },
    {
      "cell_type": "code",
      "metadata": {
        "colab_type": "code",
        "id": "afcnX6E_eqvP",
        "colab": {}
      },
      "source": [
        "def eye(n):\n",
        "    '''\n",
        "    Esta funcion debe regresar la matriz identidad de tamano nxn\n",
        "    '''\n",
        "    I = []\n",
        "    for i in range(n):\n",
        "      row = []\n",
        "      for j in range(n):\n",
        "        if i==j:\n",
        "          row.append(1)\n",
        "        else:\n",
        "          row.append(0)\n",
        "      I.append(row)\n",
        "    return I"
      ],
      "execution_count": 217,
      "outputs": []
    },
    {
      "cell_type": "code",
      "metadata": {
        "id": "DT09MK_0z1na",
        "colab_type": "code",
        "colab": {}
      },
      "source": [
        "assert eye(2) == [[1, 0], [0, 1]], \"Error en eye\""
      ],
      "execution_count": 218,
      "outputs": []
    },
    {
      "cell_type": "markdown",
      "metadata": {
        "colab_type": "text",
        "id": "jLXu_k7CfCqF"
      },
      "source": [
        "### Matriz transpuesta\n",
        "\n",
        "$$C = A^T \\Leftrightarrow c_{ij} = a{ji}$$\n",
        "\n",
        "Por ejemplo, si:\n",
        "\t$$\n",
        "\tA = \\begin{bmatrix}\n",
        "\ta_{11} & a_{12}  \\\\\n",
        "\ta_{21} & a_{22}  \\\\\n",
        "\ta_{31} & a_{32}  \\\\\n",
        "\t\\end{bmatrix}\n",
        "\t$$\n",
        "\tentonces\n",
        "\t$$\n",
        "\tA^T = \\begin{bmatrix}\n",
        "\ta_{11} & a_{21} & a_{31} \\\\\n",
        "\ta_{12} & a_{22} & a_{32} \\\\\n",
        "\t\\end{bmatrix}\n",
        "\t$$"
      ]
    },
    {
      "cell_type": "code",
      "metadata": {
        "colab_type": "code",
        "id": "zKWY09JhfEfa",
        "colab": {}
      },
      "source": [
        "def traspose(A):\n",
        "    '''\n",
        "    Esta funcion debe regresar la transpuesta de A\n",
        "    '''\n",
        "    A_t = []\n",
        "    for i in range(len(A[0])):\n",
        "      A_t.append([])\n",
        "      for j in range(len(A)):\n",
        "        A_t[i].append(A[j][i])\n",
        "    return A_t"
      ],
      "execution_count": 262,
      "outputs": []
    },
    {
      "cell_type": "code",
      "metadata": {
        "id": "3qFa9Ma3z1nr",
        "colab_type": "code",
        "colab": {}
      },
      "source": [
        "assert traspose([[1, 2], [3, 4], [5, 6]]) == [[1, 3, 5], [2, 4, 6]], \"Error en traspose\""
      ],
      "execution_count": 263,
      "outputs": []
    },
    {
      "cell_type": "markdown",
      "metadata": {
        "id": "KFl9fZVTz1nu",
        "colab_type": "text"
      },
      "source": [
        "### Valida multiplicación\n",
        "\n",
        "```True``` si\n",
        "$$A \\qquad es \\qquad mxn$$\n",
        "y\n",
        "$$B \\qquad es \\qquad nxp$$\n",
        "```False``` en otro caso"
      ]
    },
    {
      "cell_type": "code",
      "metadata": {
        "id": "rcJ_XXUOz1nv",
        "colab_type": "code",
        "colab": {}
      },
      "source": [
        "def validate_mat_mul(A, B):\n",
        "    val = False\n",
        "    if len(A[0]) == len(B):\n",
        "      val = True\n",
        "    return val\n",
        "      "
      ],
      "execution_count": 293,
      "outputs": []
    },
    {
      "cell_type": "code",
      "metadata": {
        "id": "7S0IuuXIz1ny",
        "colab_type": "code",
        "colab": {}
      },
      "source": [
        "assert validate_mat_mul([[1, 2], [3, 4]], [[5, 6], [7, 8]]) and \\\n",
        "validate_mat_mul([[1, 2], [3, 4], [5, 6]], [[1, 2, 3], [4, 5, 6]]) and \\\n",
        "not validate_mat_mul([[1, 2, 3], [4, 5, 6], [7, 8, 9]], [[1, 2], [3, 4]]), \"Error en validate_mat_mul\""
      ],
      "execution_count": 294,
      "outputs": []
    },
    {
      "cell_type": "markdown",
      "metadata": {
        "colab_type": "text",
        "id": "RY2TgoGye3pV"
      },
      "source": [
        "### Multiplicación de matrices\n",
        "\n",
        "Si $A \\in \\mathbb{R}^{m \\times n}$ y $B \\in \\mathbb{R}^{n \\times p}$ entonces:\n",
        "$$\n",
        "C = A B \\in \\mathbb{R}^{m \\times p}\\Leftrightarrow c_{ij} = \\sum_{k=1}^{n}a_{ik} b_{kj}\n",
        "$$"
      ]
    },
    {
      "cell_type": "code",
      "metadata": {
        "colab_type": "code",
        "id": "DxFQFm51e-A1",
        "colab": {}
      },
      "source": [
        "def mat_mul(A, B):\n",
        "    C = []\n",
        "    if len(A[0]) == len(B):\n",
        "      for i in range(len(A)):\n",
        "        C.append([])\n",
        "        for j in range(len(B[0])):\n",
        "          C[i].append(0)\n",
        "      for i in range(len(A)):\n",
        "        for j in range(len(B[0])):\n",
        "          for k in range(len(A[0])):\n",
        "            C[i][j] += A[i][k]*B[k][j]\n",
        "    return C\n",
        "    "
      ],
      "execution_count": 306,
      "outputs": []
    },
    {
      "cell_type": "code",
      "metadata": {
        "id": "xGE_Jf_Gz1n5",
        "colab_type": "code",
        "colab": {}
      },
      "source": [
        "assert mat_mul([[1, 2], [3, 4], [5, 6]], [[2, 2], [2, 2]]) == [[6, 6], [14, 14], [22, 22]], \"Error en mat_mul\""
      ],
      "execution_count": 307,
      "outputs": []
    }
  ]
}