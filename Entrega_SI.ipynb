{
  "nbformat": 4,
  "nbformat_minor": 0,
  "metadata": {
    "kernelspec": {
      "display_name": "Python 3",
      "language": "python",
      "name": "python3"
    },
    "language_info": {
      "codemirror_mode": {
        "name": "ipython",
        "version": 3
      },
      "file_extension": ".py",
      "mimetype": "text/x-python",
      "name": "python",
      "nbconvert_exporter": "python",
      "pygments_lexer": "ipython3",
      "version": "3.7.6"
    },
    "colab": {
      "name": "Template_Entrega_SI.ipynb",
      "provenance": [],
      "collapsed_sections": [],
      "include_colab_link": true
    }
  },
  "cells": [
    {
      "cell_type": "markdown",
      "metadata": {
        "id": "view-in-github",
        "colab_type": "text"
      },
      "source": [
        "<a href=\"https://colab.research.google.com/github/morenoloza98/Notebooks/blob/master/Entrega_SI.ipynb\" target=\"_parent\"><img src=\"https://colab.research.google.com/assets/colab-badge.svg\" alt=\"Open In Colab\"/></a>"
      ]
    },
    {
      "cell_type": "markdown",
      "metadata": {
        "id": "U5MZN1UQnOes"
      },
      "source": [
        "<img src=\"https://becasparatodos.com/wp-content/uploads/2017/01/tec-de-monterrey-maestr%C3%ADas.jpg\" style=\"width: 400px;\"/>"
      ]
    },
    {
      "cell_type": "markdown",
      "metadata": {
        "id": "4E-rqXhLnOes"
      },
      "source": [
        "<h2><center>Campus Ciudad de México, \n",
        "Escuela Ingeniería y Ciencias, \n",
        "Computación</center></h2>\n",
        "\n",
        "<h4><center>Course: TC2010.500 (Intelligent Systems)</center>\n",
        "<center>Professor: Mauricio Rosales Rivera</center>\n",
        "<center>Final Project - Evaluation</center></h4>\n",
        "    \n",
        "<h4><center>Date: November 13, 2020</center></h4>\n",
        "<h4><center><font color=\"red\">Submit: November 24, 2020</font></center></h4>\n",
        "\n",
        "---\n",
        "\n",
        "<h4>Grade: </h4>\n",
        "\n",
        "---\n",
        "<h4><center>Student's information</center></h4>\n",
        "<h4>Names:</h4>\n",
        "<p>Kevin A. Ruvalcaba Perez</p>\n",
        "<p>Santiago Gutiérrez Bárcenas</p>\n",
        "<p>Alejandro Moreno Loza</p>\n",
        "<p>Diego Moreno Rodríguez</p>\n",
        "<h4>Students ID:</h4>\n",
        "<p>A01652241</p>\n",
        "<p>A01652520</p>\n",
        "<p>A01654319</p>\n",
        "<p>A01337594</p>\n",
        "<h4>Github:</h4>\n",
        "<a href=\"https://github.com/KevinRuvalcaba/sistemas-inteligentes\">Github Kevin</a><br>\n",
        "<a href=\"https://github.com/SantiagoGutierrezB/Sistemas_Inteligentes\">Github Santiago</a><br>\n",
        "<a href=\"https://github.com/morenoloza98/Notebooks\">Github Alejandro</a><br>\n",
        "<a href=\"https://github.com/DiegoMoreno1110/Sistemas_Inteligentes_\">Github Diego</a><br>"
      ]
    },
    {
      "cell_type": "markdown",
      "metadata": {
        "id": "S22Ks4aSnOes"
      },
      "source": [
        "<center>Apegándome al Código de Ética de los Estudiantes del Tecnológico de Monterrey, me comprometo a que mi actuación en este proyecto esté regida por la honestidad académica. En congruencia con el compromiso adquirido al firmar dicho código, realizaré este proyecto de forma honesta y personal, para reflejar, a través de él, mi conocimiento y aceptar, posteriormente, la evaluación obtenida.</center>"
      ]
    },
    {
      "cell_type": "markdown",
      "metadata": {
        "id": "9T9rk_7tnOes"
      },
      "source": [
        "## <font color=\"brown\">Proyecto Final - Sistemas Inteligentes</font>\n",
        "\n",
        "---\n",
        "\n",
        "Indicaciones: El proyecto seleccionado será desarrollado siguiendo ciertas condiciones. Deberán seguir la estructura recomendada (pero podrán cambiar títulos, es sólo una sugerencia) y podrán añadir secciones en caso de que ser necesario.\n",
        "\n",
        "* La entrega límite de entrega de la notebook será: Martes 24 de noviembre.\n",
        "* Deberán realizar una exposición (entre 10 y 20 minutos a lo mucho), donde proporcionen una explicación acerca de la metodología implementada y los resultados obtenidos.\n",
        "\n",
        "Esta notebook deberá contener el nombre completo, matrícula y el link correspondiente al GitHub de cada integrante.\n",
        "En caso de no tener la información aquí solicitada, no se evaluará el proyecto."
      ]
    },
    {
      "cell_type": "markdown",
      "metadata": {
        "id": "8Pqxl9xunOes"
      },
      "source": [
        "<a id=\"general\"></a>\n",
        "### Contenido\n",
        "\n",
        "-----\n",
        "\n",
        "1. [Objetivo](#a)\n",
        "\n",
        "2. [Exploración de Datos](#b)\n",
        "    * Detección de valores faltantes\n",
        "    * Agregando valores\n",
        "    * Visualizando datos\n",
        "    * Preprocesamiento de datos\n",
        "        * Reducción de dimensiones\n",
        "        \n",
        "-----\n",
        "3. [Selección de modelos](#c)\n",
        "    * Aprendizaje No Supervisado / Supervisado\n",
        "        * Selección de modelo\n",
        "        * Selección de hiperparámetros\n",
        "        * Entrenamiento\n",
        "        * Prueba\n",
        "        * Resultados\n",
        "-----\n",
        "\n",
        "4. [Conclusiones](#d)\n",
        "\n",
        "-----"
      ]
    },
    {
      "cell_type": "markdown",
      "metadata": {
        "id": "MUbEdpoknOet"
      },
      "source": [
        "<a id=\"a\"></a>\n",
        "### 1. Objetivo\n",
        "\n",
        "---\n",
        "[Regresar a contenido](#general)\n",
        "\n",
        "Intentar presentar un enfoque completo para modelar problemas, que va desde el análisis exploratorio de datos hasta la aplicación de técnicas de aprendizaje supervisado y no supervisado a nuestros datos.\n",
        "\n",
        "El contenido de esta notebook está dirigido principalmente para entender mejor las etapas que se realizan en los problemas de Ciencia de Datos y Aprendizaje Máquina (y posiblemente en Aprendizaje Profundo)."
      ]
    },
    {
      "cell_type": "markdown",
      "metadata": {
        "id": "wPf7B3bHLsAJ"
      },
      "source": [
        "**A través de algoritmos poder realizar la clasificación de los Pokemon de primera a cuarta generación de acuerdo a sus atributos, tipo, rareza, entre otros; así como conocer el tipo de Pokemon que se presenta en una imagen\n",
        "por medio de algoritmos de Aprendizaje Máquina.**"
      ]
    },
    {
      "cell_type": "markdown",
      "metadata": {
        "id": "PWf67BXUnOet"
      },
      "source": [
        "<a id=\"b\"></a>\n",
        "### 2. Exploración de Datos\n",
        "\n",
        "---\n",
        "[Regresar a contenido](#general)\n",
        "\n",
        "En esta sección se trata de realizar una breve explicación del conjunto de datos a utilizar. Así como tener un orden al momento de importar librerías, mostrar gráficos del EDA y preprocesamiento de los datos."
      ]
    },
    {
      "cell_type": "markdown",
      "metadata": {
        "id": "0JfG-65PL7PC"
      },
      "source": [
        "El conjunto de datos contiene los siguientes datos de los Pokemon:\n",
        "  - Número\n",
        "  - Nombre\n",
        "  - Atributos (salud, ataque, defensa, etc)\n",
        "  - Tipo\n",
        "  - Rareza\n",
        "  - Generación\n",
        "  - Imágen\n",
        "\n",
        "El orden al momento de importar las librerías es la siguiente:\n",
        "\n",
        "  **Estas librerías fueron utilizadas para manejar los datos**\n",
        "\n",
        "  import numpy as np \n",
        "\n",
        "  import pandas as pd \n",
        "\n",
        "  **Estas librerías se utilizaron para la visualización de los datos por medio de gráficas**\n",
        "\n",
        "  import matplotlib as mpl\n",
        "\n",
        "  import matplotlib.pyplot as plt\n",
        "  \n",
        "  import seaborn as sns\n",
        "  \n",
        "  import plotly\n",
        "  \n",
        "  from plotly.subplots import make_subplots\n",
        "  \n",
        "  import plotly.graph_objects as go\n",
        "\n",
        "  **Estas librerías fueron utilizadas para recibir los datos por medio de una petición http y parsearlas a python**\n",
        "\n",
        "  from bs4 import BeautifulSoup, Comment\n",
        "\n",
        "  from requests import get\n",
        "\n",
        "  **Estas librerías fueron utilizadas para poder asociar el tipo de Pokemon con la imagen**\n",
        "\n",
        "  from keras.models import Sequential\n",
        "  \n",
        "  from keras.layers import Conv2D, MaxPooling2D, Dropout, Flatten, Dense, Activation, BatchNormalization, Lambda\n",
        "  \n",
        "  from keras.preprocessing.image import ImageDataGenerator\n"
      ]
    },
    {
      "cell_type": "code",
      "metadata": {
        "id": "WaoZM8BD3j72"
      },
      "source": [
        "import pandas as pd\n",
        "import numpy as np\n",
        "import plotly.graph_objects as go\n",
        "\n",
        "\n",
        "pokemons = pd.read_csv('./pokemon2.csv')\n",
        "numbers = []\n",
        "for i in range(1,pokemons.shape[0]+1):\n",
        "    numbers.append(i)\n",
        "pokemons['pkn'] = numbers\n",
        "IMG_DIR = './pokemon2/pokemon'\n",
        "from os import listdir\n",
        "from os.path import isfile, join\n",
        "onlyfiles = [f for f in listdir(IMG_DIR) if isfile(join(IMG_DIR, f))]\n",
        "\n",
        "import re\n",
        "dataframe_img = pd.DataFrame([])\n",
        "images = []\n",
        "pokemon_number = []\n",
        "for img in onlyfiles:\n",
        "    if not re.search('-', img):\n",
        "        pkn = img.split('.')\n",
        "        n = re.sub(\"[^0-9]\", \"\", pkn[0])\n",
        "        path = IMG_DIR +'/' +str(img)\n",
        "        images.append(path)\n",
        "        pokemon_number.append(n)\n",
        "dataframe_img['images'] = images\n",
        "dataframe_img['pkn'] = pokemon_number\n",
        "dataframe_img['pkn'] = dataframe_img['pkn'].astype(int)\n",
        "dataframe_img['pkn'] = dataframe_img['pkn'].astype(int)\n",
        "result = pokemons.merge(dataframe_img, left_on='pkn', right_on='pkn')\n",
        "\n",
        "select = ['Water', 'Fire', 'Poison', 'Electric', 'Grass']\n",
        "result = result[result['Type1'].isin(select)]\n",
        "fig = go.Figure()\n",
        "\n",
        "fig.add_trace(go.Bar(x=[result['Type1'].value_counts().index[0]],\n",
        "                     y=[result['Type1'].value_counts()[0]],\n",
        "                     marker_color='blue',\n",
        "                     name='water'\n",
        "                     ))\n",
        "\n",
        "fig.add_trace(go.Bar(x=[result['Type1'].value_counts().index[1]],\n",
        "                     y=[result['Type1'].value_counts()[1]],\n",
        "                     marker_color='red',\n",
        "                     name='fire'\n",
        "                    ))\n",
        "\n",
        "fig.add_trace(go.Bar(x=[result['Type1'].value_counts().index[2]],\n",
        "                     y=[result['Type1'].value_counts()[3]],\n",
        "                     marker_color='purple',\n",
        "                     name='poison'\n",
        "                    ))\n",
        "\n",
        "fig.add_trace(go.Bar(x=[result['Type1'].value_counts().index[3]],\n",
        "                     y=[result['Type1'].value_counts()[3]],\n",
        "                     marker_color='yellow',\n",
        "                     name='electric'\n",
        "                    ))\n",
        "\n",
        "fig.add_trace(go.Bar(x=[result['Type1'].value_counts().index[4]],\n",
        "                     y=[result['Type1'].value_counts()[4]],\n",
        "                     marker_color='green',\n",
        "                     name='grass'\n",
        "                    ))\n",
        "\n",
        "fig.update_layout({\n",
        "        'plot_bgcolor': 'rgba(0, 0, 0, 0)',\n",
        "        'paper_bgcolor': 'rgba(0, 0, 0, 0)',\n",
        "        'title': 'Pokemon Distribution',\n",
        "        'width': 500, \n",
        "        'height': 400\n",
        "})\n",
        "fig.show()\n"
      ],
      "execution_count": null,
      "outputs": []
    },
    {
      "cell_type": "markdown",
      "metadata": {
        "id": "Y_hMpUzj3mjo"
      },
      "source": [
        "![c4.PNG](data:image/png;base64,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)"
      ]
    },
    {
      "cell_type": "markdown",
      "metadata": {
        "id": "tL_IpOd4nOet"
      },
      "source": [
        "<a id=\"c\"></a>\n",
        "### 3. Selección de modelos\n",
        "\n",
        "---\n",
        "[Regresar a contenido](#general)\n",
        "\n",
        "En esta sección se trata de realizar una breve explicación de la metodología de aprendizaje automático. En caso de aplicar un **pipeline** de aprendizaje no supervisado y / o supervisado, que tenga un orden claro y expliquen el porqué de su aplicación con lo que han percibido de sus datos. \n",
        "\n",
        "El modelo seleccionado, qué parámetros o hiperparámetros eligieron, el porqué entrenaron con cierto tamaño de muestra y los resultados obtenidos."
      ]
    },
    {
      "cell_type": "markdown",
      "metadata": {
        "id": "gn0G802VMdgM"
      },
      "source": [
        "**El modelo que se utilizó fue el Secuencial** \n",
        "\n",
        "from keras.models import Sequential\n",
        "\n",
        "from keras.layers import Conv2D, MaxPooling2D, Dropout, Flatten, Dense, Activation, BatchNormalization, Lambda\n",
        "\n",
        "from keras.preprocessing.image import ImageDataGenerator"
      ]
    },
    {
      "cell_type": "code",
      "metadata": {
        "id": "7MVGzvj6z50K"
      },
      "source": [
        "from tensorflow.keras.models import Sequential\n",
        "from tensorflow.keras.layers import Conv2D, MaxPooling2D, Dropout, Flatten, Dense, Activation, BatchNormalization, Lambda\n",
        "from tensorflow.keras.preprocessing.image import ImageDataGenerator\n",
        "import pandas as pd\n",
        "import numpy as np\n",
        "import plotly.graph_objects as go\n",
        "\n",
        "\n",
        "pokemons = pd.read_csv('./pokemon2.csv')\n",
        "numbers = []\n",
        "for i in range(1,pokemons.shape[0]+1):\n",
        "    numbers.append(i)\n",
        "pokemons['pkn'] = numbers\n",
        "IMG_DIR = './pokemon2/pokemon'\n",
        "from os import listdir\n",
        "from os.path import isfile, join\n",
        "onlyfiles = [f for f in listdir(IMG_DIR) if isfile(join(IMG_DIR, f))]\n",
        "\n",
        "import re\n",
        "dataframe_img = pd.DataFrame([])\n",
        "images = []\n",
        "pokemon_number = []\n",
        "for img in onlyfiles:\n",
        "    if not re.search('-', img):\n",
        "        pkn = img.split('.')\n",
        "        n = re.sub(\"[^0-9]\", \"\", pkn[0])\n",
        "        path = IMG_DIR +'/' +str(img)\n",
        "        images.append(path)\n",
        "        pokemon_number.append(n)\n",
        "dataframe_img['images'] = images\n",
        "dataframe_img['pkn'] = pokemon_number\n",
        "dataframe_img['pkn'] = dataframe_img['pkn'].astype(int)\n",
        "dataframe_img['pkn'] = dataframe_img['pkn'].astype(int)\n",
        "result = pokemons.merge(dataframe_img, left_on='pkn', right_on='pkn')\n",
        "print(result.head())\n",
        "select = ['Water', 'Fire', 'Poison', 'Electric', 'Grass']\n",
        "result = result[result['Type1'].isin(select)]"
      ],
      "execution_count": null,
      "outputs": []
    },
    {
      "cell_type": "code",
      "metadata": {
        "id": "Fgj--O5Az6R8"
      },
      "source": [
        "import os\n",
        "from shutil import copyfile\n",
        "\n",
        "os.mkdir('train/')\n",
        "os.mkdir('test/')\n",
        "os.mkdir('val/')\n",
        "for class_ in result['Type1'].unique():\n",
        "    os.mkdir('train/'+str(class_)+'/')\n",
        "    os.mkdir('test/'+str(class_)+'/')\n",
        "    os.mkdir('val/'+str(class_)+'/')\n",
        "\n",
        "from sklearn.model_selection import train_test_split\n",
        "X_train, X_test, y_train, y_test = train_test_split(\n",
        "    result, result['Type1'],test_size=0.33, stratify=result['Type1'])\n",
        "\n",
        "X_test, X_val, y_test, y_val = train_test_split(\n",
        "    X_test, y_test, test_size=0.33,stratify=y_test) \n",
        "\n",
        "\n",
        "from shutil import copyfile, copy2\n",
        "\n",
        "for image,type_  in zip(X_train['images'], y_train):\n",
        "    copy2(image, './train/'+type_)\n",
        "\n",
        "for image,type_ in zip(X_test['images'], y_test):\n",
        "    copy2(image, './test/'+type_)\n",
        "    \n",
        "for image,type_ in zip(X_val['images'], y_val):\n",
        "    copy2(image, './val/'+type_)\n"
      ],
      "execution_count": null,
      "outputs": []
    },
    {
      "cell_type": "code",
      "metadata": {
        "id": "d-mH4_kAz6yY"
      },
      "source": [
        "\n",
        "def build():\n",
        "    model = Sequential()\n",
        "    IMAGE_WIDTH = 256\n",
        "    IMAGE_HEIGHT = 256\n",
        "    IMAGE_CHANNELS = 3\n",
        "    model.add(Lambda(lambda x: x, input_shape=(IMAGE_WIDTH, IMAGE_HEIGHT, IMAGE_CHANNELS)))\n",
        "    model.add(Conv2D(32, (2, 2), activation='relu'))\n",
        "    model.add(BatchNormalization())\n",
        "    model.add(MaxPooling2D(pool_size=(3, 3)))\n",
        "    model.add(Dropout(0.25))\n",
        "\n",
        "    model.add(Conv2D(64, (2, 2), activation='relu'))\n",
        "    model.add(BatchNormalization())\n",
        "    model.add(MaxPooling2D(pool_size=(3, 3)))\n",
        "    model.add(Dropout(0.25))\n",
        "\n",
        "    model.add(Conv2D(128, (2, 2), activation='relu'))\n",
        "    model.add(BatchNormalization())\n",
        "    model.add(MaxPooling2D(pool_size=(3, 3)))\n",
        "    model.add(Dropout(0.25))\n",
        "\n",
        "    model.add(Flatten())\n",
        "    model.add(Dense(512, activation='relu'))\n",
        "    model.add(BatchNormalization())\n",
        "    model.add(Dropout(0.5))\n",
        "    model.add(Dense(5, activation='softmax')) \n",
        "\n",
        "    model.compile(loss='binary_crossentropy', optimizer='adam', metrics=['acc'])\n",
        "\n",
        "    model.summary()\n",
        "    return model\n",
        "\n",
        "from tensorflow.keras.preprocessing.image import ImageDataGenerator\n",
        "datagen = ImageDataGenerator()\n",
        "\n",
        "train = datagen.flow_from_directory('./train/')\n",
        "test = datagen.flow_from_directory('./test/')\n",
        "val = datagen.flow_from_directory('./val/')\n",
        "\n",
        "\n",
        "\n",
        "model = build()\n",
        "history = model.fit_generator(train, epochs=30, validation_data=val)\n",
        "model.save('pokimans2.h5')"
      ],
      "execution_count": null,
      "outputs": []
    },
    {
      "cell_type": "markdown",
      "metadata": {
        "id": "n7k9bSbV0UFe"
      },
      "source": [
        "![Capture1.PNG](data:image/png;base64,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)"
      ]
    },
    {
      "cell_type": "code",
      "metadata": {
        "id": "DKm3zJzSz7YI"
      },
      "source": [
        "from tensorflow.keras.preprocessing.image import ImageDataGenerator\n",
        "datagen = ImageDataGenerator()\n",
        "\n",
        "train = datagen.flow_from_directory('./train/')\n",
        "test = datagen.flow_from_directory('./test/')\n",
        "val = datagen.flow_from_directory('./val/')\n",
        "\n",
        "\n",
        "model = build()\n",
        "model.load_weights('pokimans2.h5')\n",
        "predict = model.predict_generator(test)\n",
        "print(predict)\n",
        "\n",
        "\n",
        "predict = model.predict_generator(test)\n",
        "\n",
        "from sklearn.metrics import classification_report\n",
        "predict_frame = pd.DataFrame([])\n",
        "predict_frame['category'] = np.argmax(predict, axis=-1)\n",
        "labels = dict((v,k) for k,v in val.class_indices.items())\n",
        "predict_frame['category'] = predict_frame['category'].replace(labels)\n",
        "print(predict_frame)\n",
        "print(classification_report(y_test, predict_frame['category']))"
      ],
      "execution_count": null,
      "outputs": []
    },
    {
      "cell_type": "markdown",
      "metadata": {
        "id": "EIp6SEuq0Z1T"
      },
      "source": [
        "![Capture3.PNG](data:image/png;base64,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)"
      ]
    },
    {
      "cell_type": "markdown",
      "metadata": {
        "id": "m0WMSUgonOet"
      },
      "source": [
        "\n",
        "\n",
        "<a id=\"d\"></a>\n",
        "### 4. Conclusiones\n",
        "\n",
        "---\n",
        "[Regresar a contenido](#general)\n",
        "\n",
        "De su análisis, qué pueden concluir? Qué posibilidades extras pudieran aplicarse o con qué finalidad realizaron el trabajo."
      ]
    },
    {
      "cell_type": "markdown",
      "metadata": {
        "id": "Y7a3uiQLMz-M"
      },
      "source": [
        "Para la realización de este proyecto, en primera instancia se tuvo que realizar un análisis exploratorio de los datos de los Pokemon de la primera a la cuarta generación.\n",
        "\n",
        "Posteriormente, se realizó el entrenamiento del modelo, el cuál resultó tener un precisión del 100%. Sin embargo, al momento de hacer pruebas se llegó a la conclusión de que tal vez la estructura y el modelo utilizados no fueron los más adecuados para la correcta realización de este proyecto, por lo que los resultados no funcionaron como se esperaba.\n",
        "\n",
        "De igual forma, se realizó el análisis y entrenamiento utilizando los colores predominantes en cada una de las imágenes de los Pokémon de cada tiipo, es decir, el color naranja/rojo es predominante para los Pokémon tipo fuego, el azul para los de agua, amarillo para los eléctricos, entre otros. Esto fue útil para aquellos Pokémon que no cuentan con más de un color predominante, por lo que, en los casos contrarios, cuando se hicieron pruebas nos percatamos que el modelo categorizaba de manera errónea a dichos Pokémon.\n",
        "\n",
        "Por último, consideramos que este tipo de análisis de datos, clasificación de los mismos, entre otras cosas, pueden ser aplicados para diversos contextos en diferentes áreas, un ejemplo claro es la categorización de ciertos productos en el mercado, entre otros."
      ]
    }
  ]
}